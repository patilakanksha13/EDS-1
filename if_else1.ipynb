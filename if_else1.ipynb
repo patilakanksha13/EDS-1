{
  "nbformat": 4,
  "nbformat_minor": 0,
  "metadata": {
    "colab": {
      "provenance": []
    },
    "kernelspec": {
      "name": "python3",
      "display_name": "Python 3"
    },
    "language_info": {
      "name": "python"
    }
  },
  "cells": [
    {
      "cell_type": "code",
      "source": [
        "a=25\n",
        "b=30\n",
        "if b > a:\n",
        "  print(\"b is the greatest no\")"
      ],
      "metadata": {
        "id": "s4ovyXzFHeoX",
        "colab": {
          "base_uri": "https://localhost:8080/"
        },
        "outputId": "906bc94c-498b-4084-a236-36c1afb396df"
      },
      "execution_count": null,
      "outputs": [
        {
          "output_type": "stream",
          "name": "stdout",
          "text": [
            "b is the greatest no\n"
          ]
        }
      ]
    },
    {
      "cell_type": "code",
      "execution_count": null,
      "metadata": {
        "id": "EDS8kEXHHa_7",
        "colab": {
          "base_uri": "https://localhost:8080/"
        },
        "outputId": "fed48d7b-2052-4809-b5b6-e38025b0a91e"
      },
      "outputs": [
        {
          "output_type": "stream",
          "name": "stdout",
          "text": [
            "b is the greatest\n"
          ]
        }
      ],
      "source": [
        "a=25\n",
        "b=30\n",
        "if a > b:\n",
        "  print(\"a is the greatest no\")\n",
        "elif a < b:\n",
        "  print(\"b is the greatest\")"
      ]
    },
    {
      "cell_type": "code",
      "source": [
        "a=25\n",
        "b=30\n",
        "if a > b:\n",
        "  print(\"a is the greatest no\")\n",
        "elif a==b:\n",
        "  print(\"both the no are equal\")\n",
        "else :\n",
        "    print(\"a is the smallest\")"
      ],
      "metadata": {
        "colab": {
          "base_uri": "https://localhost:8080/"
        },
        "id": "GFdh2NQiK-Av",
        "outputId": "b9a726ab-eab7-4582-b4a2-1aad5777b515"
      },
      "execution_count": null,
      "outputs": [
        {
          "output_type": "stream",
          "name": "stdout",
          "text": [
            "a is the smallest\n"
          ]
        }
      ]
    },
    {
      "cell_type": "code",
      "source": [
        "a=300\n",
        "b=200\n",
        "if a < b:\n",
        "  print(\"a is the smaller\")\n",
        "elif a==b:\n",
        "  print(\"a is negative no\")\n",
        "else :\n",
        "  print(\"b is the smallest\")\n",
        "  print(\"a is the greatest\")"
      ],
      "metadata": {
        "colab": {
          "base_uri": "https://localhost:8080/"
        },
        "id": "63ntdLg8MFav",
        "outputId": "37871c53-185e-472b-fe6e-bf7801b179a6"
      },
      "execution_count": null,
      "outputs": [
        {
          "output_type": "stream",
          "name": "stdout",
          "text": [
            "b is the smallest\n",
            "a is the greatest\n"
          ]
        }
      ]
    },
    {
      "cell_type": "code",
      "source": [
        "a=300\n",
        "b=200\n",
        "c=100\n",
        "if a>b and c<a:\n",
        "  print(\"both the conditions are true\")"
      ],
      "metadata": {
        "colab": {
          "base_uri": "https://localhost:8080/"
        },
        "id": "3GYH7xInNaJ2",
        "outputId": "95561895-5d4d-4c8c-9faa-9491ad97c1fd"
      },
      "execution_count": null,
      "outputs": [
        {
          "output_type": "stream",
          "name": "stdout",
          "text": [
            "both the conditions are true\n"
          ]
        }
      ]
    },
    {
      "cell_type": "code",
      "source": [],
      "metadata": {
        "id": "G3b3zidAOi3P"
      },
      "execution_count": null,
      "outputs": []
    },
    {
      "cell_type": "code",
      "source": [],
      "metadata": {
        "id": "EpdqtlPgOx3R"
      },
      "execution_count": null,
      "outputs": []
    }
  ]
}