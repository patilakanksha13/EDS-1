{
  "nbformat": 4,
  "nbformat_minor": 0,
  "metadata": {
    "colab": {
      "provenance": []
    },
    "kernelspec": {
      "name": "python3",
      "display_name": "Python 3"
    },
    "language_info": {
      "name": "python"
    }
  },
  "cells": [
    {
      "cell_type": "code",
      "execution_count": null,
      "metadata": {
        "id": "WKGVM4DjiB0H"
      },
      "outputs": [],
      "source": [
        "# 1.  Read Student Info File"
      ]
    },
    {
      "cell_type": "code",
      "source": [
        "# Read File\n",
        "file=open('stud_info.csv','r')\n",
        "info_dataset=[]\n",
        "while True:\n",
        "    data=file.readline()\n",
        "    if data:\n",
        "        info_dataset.append(data.replace(\"\\n\", \"\").split(','))\n",
        "    else:\n",
        "        break\n",
        "print(info_dataset)"
      ],
      "metadata": {
        "colab": {
          "base_uri": "https://localhost:8080/"
        },
        "id": "ZcDADz25ihlW",
        "outputId": "1a4b7872-a6a7-43da-84f6-d2e451518f2d"
      },
      "execution_count": null,
      "outputs": [
        {
          "output_type": "stream",
          "name": "stdout",
          "text": [
            "[['Roll No', 'name', 'Gender', 'DOB'], ['1', 'John', 'Male', '05-04-1988'], ['2', 'Mayur', 'Male', '04-05-1987'], ['3', 'Mangesh', 'Male', '25-05-1989'], ['4', 'Jessica', 'Female', '12-08-1990'], ['5', 'Jennifer', 'Female', '02-09-1989'], ['6', 'Ramesh', 'Male', '03-09-1989'], ['7', 'Suresh', 'Male', '04-09-1990'], ['8', 'Ganesh', 'Male', '05-10-1989'], ['9', 'Komal', 'Female', '06-09-1989'], ['10', 'Mayuri', 'Female', '07-02-1988']]\n"
          ]
        }
      ]
    },
    {
      "cell_type": "code",
      "source": [
        "RollNo=[]\n",
        "Name=[]\n",
        "Gender=[]\n",
        "DOB=[]"
      ],
      "metadata": {
        "id": "LbcNdOKEihoX"
      },
      "execution_count": null,
      "outputs": []
    },
    {
      "cell_type": "code",
      "source": [
        "for row in info_dataset[1:]:\n",
        "    RollNo.append(row[0])\n",
        "    Name.append(row[1])\n",
        "    Gender.append(row[2])\n",
        "    DOB.append(row[3])"
      ],
      "metadata": {
        "id": "3lquuHZxihsX"
      },
      "execution_count": null,
      "outputs": []
    },
    {
      "cell_type": "code",
      "source": [
        "print(RollNo)\n",
        "print(Name)\n",
        "print(Gender)\n",
        "print(DOB)"
      ],
      "metadata": {
        "colab": {
          "base_uri": "https://localhost:8080/"
        },
        "id": "eo06nsAfihvE",
        "outputId": "540e5f47-ffc4-4f13-b7e4-87f67ed356a0"
      },
      "execution_count": null,
      "outputs": [
        {
          "output_type": "stream",
          "name": "stdout",
          "text": [
            "['1', '2', '3', '4', '5', '6', '7', '8', '9', '10']\n",
            "['John', 'Mayur', 'Mangesh', 'Jessica', 'Jennifer', 'Ramesh', 'Suresh', 'Ganesh', 'Komal', 'Mayuri']\n",
            "['Male', 'Male', 'Male', 'Female', 'Female', 'Male', 'Male', 'Male', 'Female', 'Female']\n",
            "['05-04-1988', '04-05-1987', '25-05-1989', '12-08-1990', '02-09-1989', '03-09-1989', '04-09-1990', '05-10-1989', '06-09-1989', '07-02-1988']\n"
          ]
        }
      ]
    },
    {
      "cell_type": "code",
      "source": [
        "# 2. Read Student Marks"
      ],
      "metadata": {
        "id": "zDSbXWfnihwl"
      },
      "execution_count": null,
      "outputs": []
    },
    {
      "cell_type": "code",
      "source": [
        "# Read Student Marks\n",
        "file=open('student_marks.csv','r')\n",
        "marks_dataset=[]\n",
        "while True:\n",
        "    data=file.readline()\n",
        "    if data:\n",
        "        marks_dataset.append(data.replace(\"\\n\", \"\").split(','))\n",
        "    else:\n",
        "        break\n",
        "print(marks_dataset)"
      ],
      "metadata": {
        "colab": {
          "base_uri": "https://localhost:8080/"
        },
        "id": "fCb5yXJjih0V",
        "outputId": "5859a3d6-e5b7-4b60-cf63-1821415ddbbd"
      },
      "execution_count": null,
      "outputs": [
        {
          "output_type": "stream",
          "name": "stdout",
          "text": [
            "[['Roll', 'Maths', 'Physics', 'Chemistry', 'Total', 'Percentage'], ['1', '55', '45', '56', '156', '52.00'], ['2', '75', '55', '55', '185', '61.67'], ['3', '25', '54', '89', '168', '56.00'], ['4', '78', '55', '86', '219', '73.00'], ['5', '58', '96', '78', '232', '77.33'], ['6', '88', '78', '58', '224', '74.67'], ['7', '56', '89', '69', '214', '71.33'], ['8', '54', '55', '88', '197', '65.67'], ['9', '46', '66', '65', '177', '59.00'], ['10', '89', '87', '54', '230', '76.67']]\n"
          ]
        }
      ]
    },
    {
      "cell_type": "code",
      "source": [
        "Maths=[]\n",
        "Physics=[]\n",
        "Chemistry=[]\n",
        "Total=[]\n",
        "Percentage=[]"
      ],
      "metadata": {
        "id": "Wp9kBnljih3i"
      },
      "execution_count": null,
      "outputs": []
    },
    {
      "cell_type": "code",
      "source": [
        "for row in marks_dataset[1:]:\n",
        "    Maths.append(row[1])\n",
        "    Physics.append(row[2])\n",
        "    Chemistry.append(row[3])\n",
        "    Total.append(row[4])\n",
        "    Percentage.append(row[5])\n"
      ],
      "metadata": {
        "id": "MY4RpBTcih6Q"
      },
      "execution_count": null,
      "outputs": []
    },
    {
      "cell_type": "code",
      "source": [
        "print(Maths)\n",
        "print(Physics)\n",
        "print(Chemistry)\n",
        "print(Total)\n",
        "print(Percentage)"
      ],
      "metadata": {
        "colab": {
          "base_uri": "https://localhost:8080/"
        },
        "id": "oiok6UEOih8D",
        "outputId": "78dd68b3-bd01-4ace-f174-e9c130129746"
      },
      "execution_count": null,
      "outputs": [
        {
          "output_type": "stream",
          "name": "stdout",
          "text": [
            "['55', '75', '25', '78', '58', '88', '56', '54', '46', '89']\n",
            "['45', '55', '54', '55', '96', '78', '89', '55', '66', '87']\n",
            "['56', '55', '89', '86', '78', '58', '69', '88', '65', '54']\n",
            "['156', '185', '168', '219', '232', '224', '214', '197', '177', '230']\n",
            "['52.00', '61.67', '56.00', '73.00', '77.33', '74.67', '71.33', '65.67', '59.00', '76.67']\n"
          ]
        }
      ]
    },
    {
      "cell_type": "code",
      "source": [
        "# 3. Read Student Placement File"
      ],
      "metadata": {
        "id": "mLKFDUsDih-p"
      },
      "execution_count": null,
      "outputs": []
    },
    {
      "cell_type": "code",
      "source": [
        "# Read Student Marks\n",
        "file=open('student_marks.csv','r')\n",
        "marks_dataset=[]\n",
        "while True:\n",
        "    data=file.readline()\n",
        "    if data:\n",
        "        marks_dataset.append(data.replace(\"\\n\", \"\").split(','))\n",
        "    else:\n",
        "        break\n",
        "print(marks_dataset)\n"
      ],
      "metadata": {
        "colab": {
          "base_uri": "https://localhost:8080/"
        },
        "id": "YTiGGb0EiiBI",
        "outputId": "4a9da078-ac2b-4b99-85ed-f64ded4db514"
      },
      "execution_count": null,
      "outputs": [
        {
          "output_type": "stream",
          "name": "stdout",
          "text": [
            "[['Roll', 'Maths', 'Physics', 'Chemistry', 'Total', 'Percentage'], ['1', '55', '45', '56', '156', '52.00'], ['2', '75', '55', '55', '185', '61.67'], ['3', '25', '54', '89', '168', '56.00'], ['4', '78', '55', '86', '219', '73.00'], ['5', '58', '96', '78', '232', '77.33'], ['6', '88', '78', '58', '224', '74.67'], ['7', '56', '89', '69', '214', '71.33'], ['8', '54', '55', '88', '197', '65.67'], ['9', '46', '66', '65', '177', '59.00'], ['10', '89', '87', '54', '230', '76.67']]\n"
          ]
        }
      ]
    },
    {
      "cell_type": "code",
      "source": [
        "Company=[]\n",
        "JobRole=[]\n",
        "Package=[]"
      ],
      "metadata": {
        "id": "w9lEvwM5iiEA"
      },
      "execution_count": null,
      "outputs": []
    },
    {
      "cell_type": "code",
      "source": [
        "for row in placement_dataset[1:]:\n",
        "    Company.append(row[1])\n",
        "    JobRole.append(row[2])\n",
        "    Package.append(row[3])\n"
      ],
      "metadata": {
        "id": "A04vkGWNiiPj",
        "colab": {
          "base_uri": "https://localhost:8080/",
          "height": 217
        },
        "outputId": "f3ff8885-9b59-4be1-be03-f64f91fed074"
      },
      "execution_count": null,
      "outputs": [
        {
          "output_type": "error",
          "ename": "NameError",
          "evalue": "ignored",
          "traceback": [
            "\u001b[0;31m---------------------------------------------------------------------------\u001b[0m",
            "\u001b[0;31mNameError\u001b[0m                                 Traceback (most recent call last)",
            "\u001b[0;32m<ipython-input-26-ac475c359edd>\u001b[0m in \u001b[0;36m<cell line: 1>\u001b[0;34m()\u001b[0m\n\u001b[0;32m----> 1\u001b[0;31m \u001b[0;32mfor\u001b[0m \u001b[0mrow\u001b[0m \u001b[0;32min\u001b[0m \u001b[0mplacement_dataset\u001b[0m\u001b[0;34m[\u001b[0m\u001b[0;36m1\u001b[0m\u001b[0;34m:\u001b[0m\u001b[0;34m]\u001b[0m\u001b[0;34m:\u001b[0m\u001b[0;34m\u001b[0m\u001b[0;34m\u001b[0m\u001b[0m\n\u001b[0m\u001b[1;32m      2\u001b[0m     \u001b[0mCompany\u001b[0m\u001b[0;34m.\u001b[0m\u001b[0mappend\u001b[0m\u001b[0;34m(\u001b[0m\u001b[0mrow\u001b[0m\u001b[0;34m[\u001b[0m\u001b[0;36m1\u001b[0m\u001b[0;34m]\u001b[0m\u001b[0;34m)\u001b[0m\u001b[0;34m\u001b[0m\u001b[0;34m\u001b[0m\u001b[0m\n\u001b[1;32m      3\u001b[0m     \u001b[0mJobRole\u001b[0m\u001b[0;34m.\u001b[0m\u001b[0mappend\u001b[0m\u001b[0;34m(\u001b[0m\u001b[0mrow\u001b[0m\u001b[0;34m[\u001b[0m\u001b[0;36m2\u001b[0m\u001b[0;34m]\u001b[0m\u001b[0;34m)\u001b[0m\u001b[0;34m\u001b[0m\u001b[0;34m\u001b[0m\u001b[0m\n\u001b[1;32m      4\u001b[0m     \u001b[0mPackage\u001b[0m\u001b[0;34m.\u001b[0m\u001b[0mappend\u001b[0m\u001b[0;34m(\u001b[0m\u001b[0mrow\u001b[0m\u001b[0;34m[\u001b[0m\u001b[0;36m3\u001b[0m\u001b[0;34m]\u001b[0m\u001b[0;34m)\u001b[0m\u001b[0;34m\u001b[0m\u001b[0;34m\u001b[0m\u001b[0m\n",
            "\u001b[0;31mNameError\u001b[0m: name 'placement_dataset' is not defined"
          ]
        }
      ]
    },
    {
      "cell_type": "code",
      "source": [
        "print(Company)\n",
        "print(JobRole)\n",
        "print(Package)"
      ],
      "metadata": {
        "colab": {
          "base_uri": "https://localhost:8080/"
        },
        "id": "bD4S6IhIiiTA",
        "outputId": "6523ead9-f9ab-401c-90d0-962e83be32af"
      },
      "execution_count": null,
      "outputs": [
        {
          "output_type": "stream",
          "name": "stdout",
          "text": [
            "[]\n",
            "[]\n",
            "[]\n"
          ]
        }
      ]
    },
    {
      "cell_type": "code",
      "source": [
        "studentdata=[]\n",
        "studentdata.append(RollNo)\n",
        "studentdata.append(Name)\n",
        "studentdata.append(Gender)\n",
        "studentdata.append(DOB)\n",
        "studentdata.append(Maths)\n",
        "studentdata.append(Physics)\n",
        "studentdata.append(Chemistry)\n",
        "studentdata.append(Total)\n",
        "studentdata.append(Percentage)\n",
        "studentdata.append(Company)\n",
        "studentdata.append(JobRole)\n",
        "studentdata.append(Package)"
      ],
      "metadata": {
        "id": "SqLHPjTeiiU5"
      },
      "execution_count": null,
      "outputs": []
    },
    {
      "cell_type": "code",
      "source": [
        "studentdata"
      ],
      "metadata": {
        "colab": {
          "base_uri": "https://localhost:8080/",
          "height": 165
        },
        "id": "shOOIOCvmE1W",
        "outputId": "3325d771-0f6c-42e3-c05a-0e441303e41d"
      },
      "execution_count": null,
      "outputs": [
        {
          "output_type": "error",
          "ename": "NameError",
          "evalue": "ignored",
          "traceback": [
            "\u001b[0;31m---------------------------------------------------------------------------\u001b[0m",
            "\u001b[0;31mNameError\u001b[0m                                 Traceback (most recent call last)",
            "\u001b[0;32m<ipython-input-25-6dee30eddb9a>\u001b[0m in \u001b[0;36m<cell line: 1>\u001b[0;34m()\u001b[0m\n\u001b[0;32m----> 1\u001b[0;31m \u001b[0mstudentdata\u001b[0m\u001b[0;34m\u001b[0m\u001b[0;34m\u001b[0m\u001b[0m\n\u001b[0m",
            "\u001b[0;31mNameError\u001b[0m: name 'studentdata' is not defined"
          ]
        }
      ]
    },
    {
      "cell_type": "code",
      "source": [
        "# 4. Writing Data to New File"
      ],
      "metadata": {
        "id": "Q7y3pr9DmFC6"
      },
      "execution_count": null,
      "outputs": []
    },
    {
      "cell_type": "code",
      "source": [
        "fw=open(\"StudentDetails.csv\",\"w\")"
      ],
      "metadata": {
        "id": "8lRh-qfOmFK2"
      },
      "execution_count": null,
      "outputs": []
    },
    {
      "cell_type": "code",
      "source": [
        "data_to_write=[]\n",
        "for i in range(len(studentdata[0])):# 10 rows\n",
        "    row=list()\n",
        "    for j in range(len(studentdata)):#12 col\n",
        "        data=studentdata[j][i]\n",
        "        row.append(data)\n",
        "    row.append('\\n')\n",
        "    data_to_write.append(\",\".join(row))"
      ],
      "metadata": {
        "id": "DQQ2WlKXmFMY"
      },
      "execution_count": null,
      "outputs": []
    },
    {
      "cell_type": "code",
      "source": [
        "data_to_write\n"
      ],
      "metadata": {
        "colab": {
          "base_uri": "https://localhost:8080/"
        },
        "id": "gELoo9xoiiXI",
        "outputId": "430df1b1-d357-4610-9e97-47d5f6cd476b"
      },
      "execution_count": null,
      "outputs": [
        {
          "output_type": "execute_result",
          "data": {
            "text/plain": [
              "['1,John,Male,05-04-1988,55,45,56,156,52.00,Infosys,Data Analyst,10.2,\\n',\n",
              " '2,Mayur,Male,04-05-1987,75,55,55,185,61.67,TCS,Java Developer,9.6,\\n',\n",
              " '3,Mangesh,Male,25-05-1989,25,54,89,168,56.00,TCS,Data Scientist,12.60,\\n',\n",
              " '4,Jessica,Female,12-08-1990,78,55,86,219,73.00,Infosys,Data Analyst,10.2,\\n',\n",
              " '5,Jennifer,Female,02-09-1989,58,96,78,232,77.33,Oracle,Java Developer,9.6,\\n',\n",
              " '6,Ramesh,Male,03-09-1989,88,78,58,224,74.67,Oracle,Data Scientist,12.60,\\n',\n",
              " '7,Suresh,Male,04-09-1990,56,89,69,214,71.33,TCS,Tester,6.50,\\n',\n",
              " '8,Ganesh,Male,05-10-1989,54,55,88,197,65.67,Infosys,Tester,6.51,\\n',\n",
              " '9,Komal,Female,06-09-1989,46,66,65,177,59.00,Mindtree,Database Admin,8.30,\\n',\n",
              " '10,Mayuri,Female,07-02-1988,89,87,54,230,76.67,Mindtree,Database Admin,8.31,\\n']"
            ]
          },
          "metadata": {},
          "execution_count": 32
        }
      ]
    },
    {
      "cell_type": "code",
      "source": [
        "fw.writelines(data_to_write)"
      ],
      "metadata": {
        "id": "txqgD9DPm0nx"
      },
      "execution_count": null,
      "outputs": []
    },
    {
      "cell_type": "code",
      "source": [
        "fw.close()"
      ],
      "metadata": {
        "id": "qPAkZcuvm0pI"
      },
      "execution_count": null,
      "outputs": []
    },
    {
      "cell_type": "code",
      "source": [
        " # 5. Statistical Operation"
      ],
      "metadata": {
        "id": "LJn9zpTam0tI"
      },
      "execution_count": null,
      "outputs": []
    },
    {
      "cell_type": "code",
      "source": [
        "# 1. Sum of Marks\n",
        "# 2. Average Marks\n",
        "print(\"Math Marks=\",Maths)\n",
        "print(\"Phyics Marks=\",Physics)\n",
        "print(\"Chemistry Marks=\",Chemistry)\n",
        "math=[int(i) for i in Maths]\n",
        "physics=[int(i) for i in Physics]\n",
        "chemistry=[int(i) for i in Chemistry]\n",
        "sum_of_marks=[]\n",
        "average=[]\n",
        "for i in range(len(math)):\n",
        "    sum_of_marks.append(math[i]+physics[i]+chemistry[i])\n",
        "    average.append(round(sum_of_marks[i],2))\n",
        "print(\"Sum of Marks=\",sum_of_marks)\n",
        "print(\"Average Marks=\",average)\n"
      ],
      "metadata": {
        "colab": {
          "base_uri": "https://localhost:8080/",
          "height": 235
        },
        "id": "vMTahW7am0z7",
        "outputId": "89b36254-24f8-4a59-cd7c-67b4660abfc6"
      },
      "execution_count": null,
      "outputs": [
        {
          "output_type": "error",
          "ename": "NameError",
          "evalue": "ignored",
          "traceback": [
            "\u001b[0;31m---------------------------------------------------------------------------\u001b[0m",
            "\u001b[0;31mNameError\u001b[0m                                 Traceback (most recent call last)",
            "\u001b[0;32m<ipython-input-6-9e3d2792bb0b>\u001b[0m in \u001b[0;36m<cell line: 3>\u001b[0;34m()\u001b[0m\n\u001b[1;32m      1\u001b[0m \u001b[0;31m# 1. Sum of Marks\u001b[0m\u001b[0;34m\u001b[0m\u001b[0;34m\u001b[0m\u001b[0m\n\u001b[1;32m      2\u001b[0m \u001b[0;31m# 2. Average Marks\u001b[0m\u001b[0;34m\u001b[0m\u001b[0;34m\u001b[0m\u001b[0m\n\u001b[0;32m----> 3\u001b[0;31m \u001b[0mprint\u001b[0m\u001b[0;34m(\u001b[0m\u001b[0;34m\"Math Marks=\"\u001b[0m\u001b[0;34m,\u001b[0m\u001b[0mMaths\u001b[0m\u001b[0;34m)\u001b[0m\u001b[0;34m\u001b[0m\u001b[0;34m\u001b[0m\u001b[0m\n\u001b[0m\u001b[1;32m      4\u001b[0m \u001b[0mprint\u001b[0m\u001b[0;34m(\u001b[0m\u001b[0;34m\"Phyics Marks=\"\u001b[0m\u001b[0;34m,\u001b[0m\u001b[0mPhysics\u001b[0m\u001b[0;34m)\u001b[0m\u001b[0;34m\u001b[0m\u001b[0;34m\u001b[0m\u001b[0m\n\u001b[1;32m      5\u001b[0m \u001b[0mprint\u001b[0m\u001b[0;34m(\u001b[0m\u001b[0;34m\"Chemistry Marks=\"\u001b[0m\u001b[0;34m,\u001b[0m\u001b[0mChemistry\u001b[0m\u001b[0;34m)\u001b[0m\u001b[0;34m\u001b[0m\u001b[0;34m\u001b[0m\u001b[0m\n",
            "\u001b[0;31mNameError\u001b[0m: name 'Maths' is not defined"
          ]
        }
      ]
    },
    {
      "cell_type": "code",
      "source": [
        "# 3. Max Marks"
      ],
      "metadata": {
        "id": "di4gIgG7m09f"
      },
      "execution_count": null,
      "outputs": []
    },
    {
      "cell_type": "code",
      "source": [
        "print(\"Maximum Marks=\",max(avg))"
      ],
      "metadata": {
        "colab": {
          "base_uri": "https://localhost:8080/",
          "height": 167
        },
        "id": "MIbdyTa0nmmw",
        "outputId": "856d6fcf-a197-4e2a-a04a-4cbcf3e99713"
      },
      "execution_count": null,
      "outputs": [
        {
          "output_type": "error",
          "ename": "NameError",
          "evalue": "ignored",
          "traceback": [
            "\u001b[0;31m---------------------------------------------------------------------------\u001b[0m",
            "\u001b[0;31mNameError\u001b[0m                                 Traceback (most recent call last)",
            "\u001b[0;32m<ipython-input-40-73a5f4bdc1f9>\u001b[0m in \u001b[0;36m<cell line: 1>\u001b[0;34m()\u001b[0m\n\u001b[0;32m----> 1\u001b[0;31m \u001b[0mprint\u001b[0m\u001b[0;34m(\u001b[0m\u001b[0;34m\"Maximum Marks=\"\u001b[0m\u001b[0;34m,\u001b[0m\u001b[0mmax\u001b[0m\u001b[0;34m(\u001b[0m\u001b[0mavg\u001b[0m\u001b[0;34m)\u001b[0m\u001b[0;34m)\u001b[0m\u001b[0;34m\u001b[0m\u001b[0;34m\u001b[0m\u001b[0m\n\u001b[0m",
            "\u001b[0;31mNameError\u001b[0m: name 'avg' is not defined"
          ]
        }
      ]
    },
    {
      "cell_type": "code",
      "source": [
        "# 4. Min Marks"
      ],
      "metadata": {
        "id": "nVqn7RmfnvL_"
      },
      "execution_count": null,
      "outputs": []
    },
    {
      "cell_type": "code",
      "source": [
        "# Max Marks"
      ],
      "metadata": {
        "id": "0AtvgoyNnvO0"
      },
      "execution_count": null,
      "outputs": []
    },
    {
      "cell_type": "code",
      "source": [
        "print(\"Maximum Marks=\",min(avg))"
      ],
      "metadata": {
        "colab": {
          "base_uri": "https://localhost:8080/",
          "height": 167
        },
        "id": "QBq0aXmYnmzd",
        "outputId": "b19d946c-73d1-4319-d747-5bd6668ba2e2"
      },
      "execution_count": null,
      "outputs": [
        {
          "output_type": "error",
          "ename": "NameError",
          "evalue": "ignored",
          "traceback": [
            "\u001b[0;31m---------------------------------------------------------------------------\u001b[0m",
            "\u001b[0;31mNameError\u001b[0m                                 Traceback (most recent call last)",
            "\u001b[0;32m<ipython-input-43-9b922b3d766c>\u001b[0m in \u001b[0;36m<cell line: 1>\u001b[0;34m()\u001b[0m\n\u001b[0;32m----> 1\u001b[0;31m \u001b[0mprint\u001b[0m\u001b[0;34m(\u001b[0m\u001b[0;34m\"Maximum Marks=\"\u001b[0m\u001b[0;34m,\u001b[0m\u001b[0mmin\u001b[0m\u001b[0;34m(\u001b[0m\u001b[0mavg\u001b[0m\u001b[0;34m)\u001b[0m\u001b[0;34m)\u001b[0m\u001b[0;34m\u001b[0m\u001b[0;34m\u001b[0m\u001b[0m\n\u001b[0m",
            "\u001b[0;31mNameError\u001b[0m: name 'avg' is not defined"
          ]
        }
      ]
    },
    {
      "cell_type": "code",
      "source": [
        "# 5. Count total no of student"
      ],
      "metadata": {
        "id": "Llv0OQwAn7Ae"
      },
      "execution_count": null,
      "outputs": []
    },
    {
      "cell_type": "code",
      "source": [
        "print(\"Total No of Student=\",len(studentdata[0]))"
      ],
      "metadata": {
        "colab": {
          "base_uri": "https://localhost:8080/"
        },
        "id": "Z3OQHBthn7PO",
        "outputId": "e0d1afa2-ddd7-4c29-a81c-31db89bc5e1b"
      },
      "execution_count": null,
      "outputs": [
        {
          "output_type": "stream",
          "name": "stdout",
          "text": [
            "Total No of Student= 10\n"
          ]
        }
      ]
    },
    {
      "cell_type": "code",
      "source": [
        "#6. Percentage"
      ],
      "metadata": {
        "id": "kQLIR36yn7jQ"
      },
      "execution_count": null,
      "outputs": []
    },
    {
      "cell_type": "code",
      "source": [
        "#assume math marks=90, physic=90, chem=90"
      ],
      "metadata": {
        "id": "V1j01r2aoZSo"
      },
      "execution_count": null,
      "outputs": []
    },
    {
      "cell_type": "code",
      "source": [
        "per=[]"
      ],
      "metadata": {
        "id": "u9_Lsm1eoZl6"
      },
      "execution_count": null,
      "outputs": []
    },
    {
      "cell_type": "code",
      "source": [
        "for i in range(len(sum_of_marks)):\n",
        "    per.append(round((100*sum_of_marks[i]/270),2))\n",
        "print(\"Percentage=\",per)"
      ],
      "metadata": {
        "colab": {
          "base_uri": "https://localhost:8080/"
        },
        "id": "r_nqu1iHoony",
        "outputId": "af588e6e-aba1-419f-c7bd-732f9fcc891a"
      },
      "execution_count": null,
      "outputs": [
        {
          "output_type": "stream",
          "name": "stdout",
          "text": [
            "Percentage= [57.78]\n"
          ]
        }
      ]
    }
  ]
}