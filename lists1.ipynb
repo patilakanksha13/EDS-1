{
  "nbformat": 4,
  "nbformat_minor": 0,
  "metadata": {
    "colab": {
      "provenance": []
    },
    "kernelspec": {
      "name": "python3",
      "display_name": "Python 3"
    },
    "language_info": {
      "name": "python"
    }
  },
  "cells": [
    {
      "cell_type": "code",
      "execution_count": null,
      "metadata": {
        "colab": {
          "base_uri": "https://localhost:8080/"
        },
        "id": "IEu4kekW9ds-",
        "outputId": "43a2c80d-7ff6-44c9-8258-49121c82e5c5"
      },
      "outputs": [
        {
          "output_type": "stream",
          "name": "stdout",
          "text": [
            "3\n"
          ]
        }
      ],
      "source": [
        "thislist=[\"akanksha\", \"patil\", \"mit\"]\n",
        "print(len(thislist))"
      ]
    },
    {
      "cell_type": "code",
      "source": [
        "thislist=[\"akanksha\", \"patil\", \"mit\"]\n",
        "print(type(thislist))"
      ],
      "metadata": {
        "colab": {
          "base_uri": "https://localhost:8080/"
        },
        "id": "bGvoLhNg-RsN",
        "outputId": "8233d07b-7441-4c9a-b548-bac88fc54117"
      },
      "execution_count": null,
      "outputs": [
        {
          "output_type": "stream",
          "name": "stdout",
          "text": [
            "<class 'list'>\n"
          ]
        }
      ]
    },
    {
      "cell_type": "code",
      "source": [
        "thislist=[\"akanksha\",\"patil\",\"mit\"]\n",
        "print(thislist[2])"
      ],
      "metadata": {
        "colab": {
          "base_uri": "https://localhost:8080/"
        },
        "id": "Pl87zVWA_NMa",
        "outputId": "80ac4cad-aa0e-49b2-dc7c-3a4a6b58401e"
      },
      "execution_count": null,
      "outputs": [
        {
          "output_type": "stream",
          "name": "stdout",
          "text": [
            "mit\n"
          ]
        }
      ]
    },
    {
      "cell_type": "code",
      "source": [
        "thislist=[\"akanksha\",\"patil\",\"mit\"]\n",
        "print(thislist[-2])"
      ],
      "metadata": {
        "colab": {
          "base_uri": "https://localhost:8080/"
        },
        "id": "3g4qpbuO_xLa",
        "outputId": "dd05494d-49f8-47b7-f3c7-b6c5b04884ce"
      },
      "execution_count": null,
      "outputs": [
        {
          "output_type": "stream",
          "name": "stdout",
          "text": [
            "patil\n"
          ]
        }
      ]
    },
    {
      "cell_type": "code",
      "source": [
        "thislist=[\"akanksha\",\"patil\",\"mit\"]\n",
        "print(thislist[1:2])"
      ],
      "metadata": {
        "colab": {
          "base_uri": "https://localhost:8080/"
        },
        "id": "hCmx9ytYAUMs",
        "outputId": "4f823624-84f8-4e98-e702-b9fd20e66c97"
      },
      "execution_count": null,
      "outputs": [
        {
          "output_type": "stream",
          "name": "stdout",
          "text": [
            "['patil']\n"
          ]
        }
      ]
    },
    {
      "cell_type": "code",
      "source": [
        "\n",
        "thislist=[\"akanksha\",\"patil\",\"mit\",\"nanded\",\"etx\",\"145\"]\n",
        "print(thislist[-3:-1])"
      ],
      "metadata": {
        "colab": {
          "base_uri": "https://localhost:8080/"
        },
        "id": "gQbJyxVLAjj8",
        "outputId": "a4c5f441-d59c-4195-d9ac-3af95011641b"
      },
      "execution_count": null,
      "outputs": [
        {
          "output_type": "stream",
          "name": "stdout",
          "text": [
            "['nanded', 'etx']\n"
          ]
        }
      ]
    },
    {
      "cell_type": "code",
      "source": [
        "thislist=[\"akanksha\",\"patil\",\"mit\",\"nanded\",\"etx\",\"145\"]\n",
        "print(thislist[3:])"
      ],
      "metadata": {
        "colab": {
          "base_uri": "https://localhost:8080/"
        },
        "id": "15nnZ4UhBRX-",
        "outputId": "79062525-1fee-4389-a875-2eb837be8a3c"
      },
      "execution_count": null,
      "outputs": [
        {
          "output_type": "stream",
          "name": "stdout",
          "text": [
            "['nanded', 'etx', '145']\n"
          ]
        }
      ]
    },
    {
      "cell_type": "code",
      "source": [
        "thislist=[\"akanksha\",\"patil\",\"mit\",\"nanded\",\"etx\",\"145\"]\n",
        "print(thislist[:4])"
      ],
      "metadata": {
        "colab": {
          "base_uri": "https://localhost:8080/"
        },
        "id": "HY8ds8sCBen7",
        "outputId": "ce6a8bf5-772b-4a20-c45f-68ca2aeed771"
      },
      "execution_count": null,
      "outputs": [
        {
          "output_type": "stream",
          "name": "stdout",
          "text": [
            "['akanksha', 'patil', 'mit', 'nanded']\n"
          ]
        }
      ]
    },
    {
      "cell_type": "code",
      "source": [
        "thislist=[\"akanksha\",\"patil\",\"mit\",\"nanded\",\"etx\",\"145\"]\n",
        "if \"etx\" in thislist:\n",
        "  print(\"yes,'etx' is in the info list\")"
      ],
      "metadata": {
        "colab": {
          "base_uri": "https://localhost:8080/"
        },
        "id": "lFqPb74mBx6s",
        "outputId": "1d99d0ec-2be7-4b8b-abfb-efd37fbccfa8"
      },
      "execution_count": null,
      "outputs": [
        {
          "output_type": "stream",
          "name": "stdout",
          "text": [
            "yes,'etx' is in the info list\n"
          ]
        }
      ]
    },
    {
      "cell_type": "code",
      "source": [
        "thislist=[\"akanksha\",\"patil\",\"mit\",\"nanded\",\"etx\",\"145\"]\n",
        "thislist[2]=\"mgm\"\n",
        "print(thislist)"
      ],
      "metadata": {
        "colab": {
          "base_uri": "https://localhost:8080/"
        },
        "id": "yCB88jlsCgcX",
        "outputId": "92040639-7e06-40b8-81be-893a21832959"
      },
      "execution_count": null,
      "outputs": [
        {
          "output_type": "stream",
          "name": "stdout",
          "text": [
            "['akanksha', 'patil', 'mgm', 'nanded', 'etx', '145']\n"
          ]
        }
      ]
    },
    {
      "cell_type": "code",
      "source": [
        "thislist=[\"akanksha\",\"patil\",\"mit\",\"nanded\",\"etx\",\"145\"]\n",
        "thislist[2:3]=[\"mgm\",\"pune\"]\n",
        "print(thislist)"
      ],
      "metadata": {
        "colab": {
          "base_uri": "https://localhost:8080/"
        },
        "id": "tieXFoEgC0t3",
        "outputId": "a5ab11a6-7610-412e-9e43-3a433f8a362e"
      },
      "execution_count": null,
      "outputs": [
        {
          "output_type": "stream",
          "name": "stdout",
          "text": [
            "['akanksha', 'patil', 'mgm', 'pune', 'nanded', 'etx', '145']\n"
          ]
        }
      ]
    },
    {
      "cell_type": "code",
      "source": [
        "thislist=[\"akanksha\",\"patil\",\"mit\",\"nanded\",\"etx\",\"145\"]\n",
        "thislist.insert(3,\"pune\")\n",
        "print(thislist)"
      ],
      "metadata": {
        "colab": {
          "base_uri": "https://localhost:8080/"
        },
        "id": "jt2FaqPGDQho",
        "outputId": "f48ae1d4-cc07-4860-e63a-afe35051361c"
      },
      "execution_count": null,
      "outputs": [
        {
          "output_type": "stream",
          "name": "stdout",
          "text": [
            "['akanksha', 'patil', 'mit', 'pune', 'nanded', 'etx', '145']\n"
          ]
        }
      ]
    },
    {
      "cell_type": "code",
      "source": [
        "thislist=[\"akanksha\",\"patil\",\"mit\",\"nanded\",\"etx\",\"145\"]\n",
        "thislist.append(\"pune\")\n",
        "print(thislist)"
      ],
      "metadata": {
        "colab": {
          "base_uri": "https://localhost:8080/"
        },
        "id": "LmhXA6PED68O",
        "outputId": "37e64201-2d44-4beb-8d6f-11c98449c1ab"
      },
      "execution_count": null,
      "outputs": [
        {
          "output_type": "stream",
          "name": "stdout",
          "text": [
            "['akanksha', 'patil', 'mit', 'nanded', 'etx', '145', 'pune']\n"
          ]
        }
      ]
    },
    {
      "cell_type": "code",
      "source": [
        "thislist=[\"akanksha\",\"patil\",\"mit\",\"nanded\",\"etx\",\"145\"]\n",
        "tropical=[\"cs\",\"civil\"]\n",
        "thislist.extend(tropical)\n",
        "print(thislist)"
      ],
      "metadata": {
        "colab": {
          "base_uri": "https://localhost:8080/"
        },
        "id": "bce6FN8MEWTK",
        "outputId": "016f9d40-7500-4198-8f0e-d9a487da0bd2"
      },
      "execution_count": null,
      "outputs": [
        {
          "output_type": "stream",
          "name": "stdout",
          "text": [
            "['akanksha', 'patil', 'mit', 'nanded', 'etx', '145', 'cs', 'civil']\n"
          ]
        }
      ]
    },
    {
      "cell_type": "code",
      "source": [
        "thislist=[\"akanksha\",\"patil\",\"mit\",\"nanded\",\"etx\",\"145\"]\n",
        "thislist.remove(\"patil\")\n",
        "print(thislist)"
      ],
      "metadata": {
        "colab": {
          "base_uri": "https://localhost:8080/"
        },
        "id": "9qrsKGR9EyJV",
        "outputId": "6f9a5248-9581-44a1-b359-ba9e3f021944"
      },
      "execution_count": null,
      "outputs": [
        {
          "output_type": "stream",
          "name": "stdout",
          "text": [
            "['akanksha', 'mit', 'nanded', 'etx', '145']\n"
          ]
        }
      ]
    },
    {
      "cell_type": "code",
      "source": [
        "thislist=[\"akanksha\",\"patil\",\"mit\",\"nanded\",\"etx\",\"145\"]\n",
        "thislist.pop(2)\n",
        "print(thislist)"
      ],
      "metadata": {
        "colab": {
          "base_uri": "https://localhost:8080/"
        },
        "id": "FipvdeL4FcsL",
        "outputId": "b1e786b8-57ac-4329-bfea-37d925276c8e"
      },
      "execution_count": null,
      "outputs": [
        {
          "output_type": "stream",
          "name": "stdout",
          "text": [
            "['akanksha', 'patil', 'nanded', 'etx', '145']\n"
          ]
        }
      ]
    },
    {
      "cell_type": "code",
      "source": [],
      "metadata": {
        "id": "cg4nnZtxFmKk"
      },
      "execution_count": null,
      "outputs": []
    }
  ]
}