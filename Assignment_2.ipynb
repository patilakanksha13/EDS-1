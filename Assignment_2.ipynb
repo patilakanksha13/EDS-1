{
  "nbformat": 4,
  "nbformat_minor": 0,
  "metadata": {
    "colab": {
      "provenance": []
    },
    "kernelspec": {
      "name": "python3",
      "display_name": "Python 3"
    },
    "language_info": {
      "name": "python"
    }
  },
  "cells": [
    {
      "cell_type": "code",
      "execution_count": null,
      "metadata": {
        "id": "YFRVDQ1bgb4n"
      },
      "outputs": [],
      "source": []
    },
    {
      "cell_type": "code",
      "source": [
        "# 5. Find the number of customer who are ‘Female’\n",
        "\n",
        "# Identify Unique Customer\n",
        "from collections import Counter\n",
        "counter = dict(Counter(Customer_details))\n",
        "names=list(counter.keys())\n",
        "print(names)\n",
        "male=0\n",
        "female=0\n",
        "\n",
        "for name in names:\n",
        "    if gender[name]==\"Male\":\n",
        "        male=male+1\n",
        "    if gender[name]==\"Female\":\n",
        "        female+=1\n",
        "print(\"Total no of Male=\",male)\n",
        "print(\"Total no of Female=\",female)"
      ],
      "metadata": {
        "colab": {
          "base_uri": "https://localhost:8080/"
        },
        "id": "KM_VoOtFnnna",
        "outputId": "9133d100-57a3-45df-e1ba-41ab439d344c"
      },
      "execution_count": null,
      "outputs": [
        {
          "output_type": "stream",
          "name": "stdout",
          "text": [
            "['Kaustubh Mahajan', 'Siddhi Kiwale', 'Sanket Kandalkar', 'Yash Mali', 'Yash Borkar', 'Tanuja Mali']\n",
            "Total no of Male= 4\n",
            "Total no of Female= 2\n"
          ]
        }
      ]
    },
    {
      "cell_type": "code",
      "source": [
        "from collections import Counter\n",
        "counter = dict(Counter(list(Supplier_details.values())))\n",
        "sorted_counter = sorted(counter.items(), key=lambda x:x[1],reverse=True)\n",
        "sorted_counter=dict(sorted_counter)\n",
        "print(\"The most popular Supplier for sales\",list(sorted_counter.keys())[0],\n",
        "      \" sold \",list(sorted_counter.values())[0],\"Items\")r for sales Raka Elec.  sold  6 Items\n"
      ],
      "metadata": {
        "colab": {
          "base_uri": "https://localhost:8080/"
        },
        "id": "PJI8OkkTmpFC",
        "outputId": "9b3cc83a-da95-41c3-970f-a400a746d70d"
      },
      "execution_count": null,
      "outputs": [
        {
          "output_type": "stream",
          "name": "stdout",
          "text": [
            "The most popular Supplier for sales Raka Elec.  sold  6 Items\n"
          ]
        }
      ]
    },
    {
      "cell_type": "code",
      "source": [
        "# 4. Find the customer who buys most of the products.\n",
        "\n",
        "\n",
        "frequency = {}\n",
        "# iterating over the list\n",
        "for item in Customer_details:\n",
        "   # checking the element in dictionary\n",
        "   if item in frequency:\n",
        "      # incrementing the counter\n",
        "      frequency[item] += 1\n",
        "   else:\n",
        "      # initializing the count\n",
        "      frequency[item] = 1\n",
        "# printing the frequency\n",
        "print(\"Freqenct is as below:\\n\",frequency)\n",
        "marklist = sorted(frequency.items(), key=lambda x:x[1],reverse=True)\n",
        "sortdict = dict(marklist)\n",
        "print(\"\\nSorted dict is as below:\\n\",sortdict)\n",
        "print(\"\\n\\nThe customer who buys most of the products\",list(sortdict.keys())[0],\n",
        "      \" buy \",list(sortdict.values())[0],\"Items\")\n",
        "\n",
        ""
      ],
      "metadata": {
        "colab": {
          "base_uri": "https://localhost:8080/"
        },
        "id": "3pL_MeGNmPyN",
        "outputId": "67e378f4-05b9-4151-aeee-91b3a81e6ac0"
      },
      "execution_count": null,
      "outputs": [
        {
          "output_type": "stream",
          "name": "stdout",
          "text": [
            "Freqenct is as below:\n",
            " {'Kaustubh Mahajan': 5, 'Siddhi Kiwale': 5, 'Sanket Kandalkar': 4, 'Yash Mali': 4, 'Yash Borkar': 1, 'Tanuja Mali': 1}\n",
            "\n",
            "Sorted dict is as below:\n",
            " {'Kaustubh Mahajan': 5, 'Siddhi Kiwale': 5, 'Sanket Kandalkar': 4, 'Yash Mali': 4, 'Yash Borkar': 1, 'Tanuja Mali': 1}\n",
            "\n",
            "\n",
            "The customer who buys most of the products Kaustubh Mahajan  buy  5 Items\n"
          ]
        }
      ]
    },
    {
      "cell_type": "code",
      "source": [
        "from collections import Counter\n",
        "counter = dict(Counter(Customer_details))\n",
        "sorted_counter = sorted(counter.items(), key=lambda x:x[1],reverse=True)\n",
        "sorted_counter=dict(sorted_counter)\n",
        "print(\"The customer who buys most of the products\",list(sorted_counter.keys())[0],\n",
        "      \" buy \",list(sorted_counter.values())[0],\"Items\")"
      ],
      "metadata": {
        "colab": {
          "base_uri": "https://localhost:8080/"
        },
        "id": "yAxfNSOxl81l",
        "outputId": "abc970ce-4617-4611-a32f-096530e59d39"
      },
      "execution_count": null,
      "outputs": [
        {
          "output_type": "stream",
          "name": "stdout",
          "text": [
            "The customer who buys most of the products Kaustubh Mahajan  buy  5 Items\n"
          ]
        }
      ]
    },
    {
      "cell_type": "code",
      "source": [
        "# 2. Find the most popular product for sales.\n",
        "\n",
        "frequency = {}#{Lenovo Laptop:3}\n",
        "# iterating over the list\n",
        "for item in Product_details:\n",
        "   # checking the element in dictionary\n",
        "   if item in frequency:\n",
        "      # incrementing the counter\n",
        "      frequency[item] += 1\n",
        "   else:\n",
        "      # initializing the count\n",
        "      frequency[item] = 1\n",
        "# printing the frequency\n",
        "print(frequency)\n",
        "marklist = sorted(frequency.items(), key=lambda x:x[1],reverse=True)\n",
        "sortdict = dict(marklist)\n",
        "print(sortdict)\n",
        "print(\"The most popular product for sales\",list(sortdict.keys())[0],\" sold \",list(sortdict.values())[0],\"times\")\n"
      ],
      "metadata": {
        "colab": {
          "base_uri": "https://localhost:8080/"
        },
        "id": "NJJ0DR4qlhW_",
        "outputId": "6be60b5e-cf85-4838-b7e8-ef233a8948af"
      },
      "execution_count": null,
      "outputs": [
        {
          "output_type": "stream",
          "name": "stdout",
          "text": [
            "{'Lenovo Laptop': 6, 'Samsung M31': 5, 'Realme 10 Pro': 2, 'Oppo F21': 3, '\"LG TV 32\"\"\"': 4}\n",
            "{'Lenovo Laptop': 6, 'Samsung M31': 5, '\"LG TV 32\"\"\"': 4, 'Oppo F21': 3, 'Realme 10 Pro': 2}\n",
            "The most popular product for sales Lenovo Laptop  sold  6 times\n"
          ]
        }
      ]
    },
    {
      "cell_type": "code",
      "source": [],
      "metadata": {
        "id": "6ldRu2xClvOV"
      },
      "execution_count": null,
      "outputs": []
    },
    {
      "cell_type": "code",
      "source": [
        "print(\"\\nProduct_details\\n\",Product_details,end=\"\")\n",
        "print(\"\\n\\nCustomer_details\\n\",Customer_details,end=\"\")\n",
        "print(\"\\n\\nSupplier_details\\n\",Supplier_details,end=\"\")\n",
        "print(\"\\n\\nGender_details\\n\",gender,end=\"\")"
      ],
      "metadata": {
        "colab": {
          "base_uri": "https://localhost:8080/"
        },
        "id": "_nLrbdQZlVAH",
        "outputId": "89e43d0f-61f4-4b3e-fe46-28debd8fd0e8"
      },
      "execution_count": null,
      "outputs": [
        {
          "output_type": "stream",
          "name": "stdout",
          "text": [
            "\n",
            "Product_details\n",
            " ['Lenovo Laptop', 'Samsung M31', 'Realme 10 Pro', 'Oppo F21', 'Lenovo Laptop', 'Samsung M31', '\"LG TV 32\"\"\"', 'Oppo F21', 'Lenovo Laptop', 'Samsung M31', '\"LG TV 32\"\"\"', 'Lenovo Laptop', 'Samsung M31', 'Realme 10 Pro', 'Lenovo Laptop', 'Oppo F21', '\"LG TV 32\"\"\"', 'Lenovo Laptop', 'Samsung M31', '\"LG TV 32\"\"\"']\n",
            "\n",
            "Customer_details\n",
            " ('Kaustubh Mahajan', 'Siddhi Kiwale', 'Sanket Kandalkar', 'Yash Mali', 'Yash Borkar', 'Siddhi Kiwale', 'Sanket Kandalkar', 'Kaustubh Mahajan', 'Yash Mali', 'Siddhi Kiwale', 'Sanket Kandalkar', 'Kaustubh Mahajan', 'Yash Mali', 'Siddhi Kiwale', 'Tanuja Mali', 'Kaustubh Mahajan', 'Sanket Kandalkar', 'Siddhi Kiwale', 'Kaustubh Mahajan', 'Yash Mali')\n",
            "\n",
            "Supplier_details\n",
            " {'P00001': 'Raka Elec.', 'P00002': 'Vijay Sales', 'P00003': 'Gada Elec.', 'P00004': 'Surya Elec.', 'P00005': 'Raka Elec.', 'P00006': 'Gada Elec.', 'P00007': 'Vijay Sales', 'P00008': 'Surya Elec.', 'P00009': 'Raka Elec.', 'P00010': 'Gada Elec.', 'P00011': 'Surya Elec.', 'P00012': 'Raka Elec.', 'P00013': 'Surya Elec.', 'P00014': 'Raka Elec.', 'P00015': 'Gada Elec.', 'P00016': 'Vijay Sales', 'P00017': 'Deshmukh Sales', 'P00018': 'Raka Elec.', 'P00019': 'Deshmukh Sales', 'P00020': 'Gada Elec.'}\n",
            "\n",
            "Gender_details\n",
            " {'Kaustubh Mahajan': 'Male', 'Siddhi Kiwale': 'Female', 'Sanket Kandalkar': 'Male', 'Yash Mali': 'Male', 'Yash Borkar': 'Male', 'Tanuja Mali': 'Female'}"
          ]
        }
      ]
    },
    {
      "cell_type": "code",
      "source": [
        "# 1. Read CSV into python data structure\n",
        "\n",
        "Product_details=[]\n",
        "Supplier_details=dict()\n",
        "Customer_details=[]\n",
        "gender={}\n",
        "\n",
        "fp1=open(\"/content/Sales.csv\",\"r\")\n",
        "data=fp1.readline()\n",
        "\n",
        "while(True):\n",
        "\n",
        "    data=fp1.readline()\n",
        "    if not data:\n",
        "        break;\n",
        "    #print(data)\n",
        "    data=data.replace(\"\\n\",\"\")\n",
        "    temp=data.split(\",\")\n",
        "    Product_details.append(temp[1])\n",
        "    Customer_details.append(temp[3])\n",
        "    Supplier_details.update({temp[0]:temp[2]})\n",
        "    gender.update({temp[3]:temp[4]})\n",
        "\n",
        "fp1.close()\n",
        "\n",
        "Customer_details=tuple(Customer_details)\n",
        "print(type(Customer_details))"
      ],
      "metadata": {
        "colab": {
          "base_uri": "https://localhost:8080/"
        },
        "id": "H_yArMGFk_Il",
        "outputId": "08c89b70-6dd8-4219-8ee5-0993d75a9fdd"
      },
      "execution_count": null,
      "outputs": [
        {
          "output_type": "stream",
          "name": "stdout",
          "text": [
            "<class 'tuple'>\n"
          ]
        }
      ]
    }
  ]
}