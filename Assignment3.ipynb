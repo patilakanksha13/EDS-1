{
  "nbformat": 4,
  "nbformat_minor": 0,
  "metadata": {
    "colab": {
      "provenance": []
    },
    "kernelspec": {
      "name": "python3",
      "display_name": "Python 3"
    },
    "language_info": {
      "name": "python"
    }
  },
  "cells": [
    {
      "cell_type": "code",
      "execution_count": null,
      "metadata": {
        "colab": {
          "base_uri": "https://localhost:8080/"
        },
        "id": "-p2YfjD_ou0o",
        "outputId": "7fcb309a-f9a9-4840-a433-09a6f03eb303"
      },
      "outputs": [
        {
          "output_type": "execute_result",
          "data": {
            "text/plain": [
              "array([[1, 2, 3],\n",
              "       [4, 5, 6],\n",
              "       [7, 8, 9]])"
            ]
          },
          "metadata": {},
          "execution_count": 1
        }
      ],
      "source": [
        "import numpy as np\n",
        "\n",
        "array1=np.array([[1,2,3],[4,5,6],[7,8,9]])\n",
        "array1\n"
      ]
    },
    {
      "cell_type": "code",
      "source": [
        "array2=np.array([[11,12,13],[14,15,16],[17,18,19]])\n",
        "array2"
      ],
      "metadata": {
        "colab": {
          "base_uri": "https://localhost:8080/"
        },
        "id": "JWBh964wp7Aa",
        "outputId": "e1974efa-7f32-48d2-b64a-c2bd2d6be183"
      },
      "execution_count": null,
      "outputs": [
        {
          "output_type": "execute_result",
          "data": {
            "text/plain": [
              "array([[11, 12, 13],\n",
              "       [14, 15, 16],\n",
              "       [17, 18, 19]])"
            ]
          },
          "metadata": {},
          "execution_count": 2
        }
      ]
    },
    {
      "cell_type": "code",
      "source": [
        "# 1. Matrix Operation\n",
        "## 1.1 Addition\n",
        "resultarray=array1+array2\n",
        "print(\"\\nUsing Operator:\\n\",resultarray)\n",
        "resultarray=np.add(array1,array2)\n",
        "print(\"\\nUsing Numpy Function:\\n\",resultarray)\n"
      ],
      "metadata": {
        "colab": {
          "base_uri": "https://localhost:8080/"
        },
        "id": "uDtwmewBqBZn",
        "outputId": "0ebd8044-c3c8-4e3a-cb01-54966fa3dd83"
      },
      "execution_count": null,
      "outputs": [
        {
          "output_type": "stream",
          "name": "stdout",
          "text": [
            "\n",
            "Using Operator:\n",
            " [[12 14 16]\n",
            " [18 20 22]\n",
            " [24 26 28]]\n",
            "\n",
            "Using Numpy Function:\n",
            " [[12 14 16]\n",
            " [18 20 22]\n",
            " [24 26 28]]\n"
          ]
        }
      ]
    },
    {
      "cell_type": "code",
      "source": [
        "## 1.2. Subtraction\n",
        "\n",
        "\n",
        "resultarray=array1-array2\n",
        "print(\"\\nUsing Operator:\\n\",resultarray)\n",
        "resultarray=np.subtract(array1,array2)\n",
        "print(\"\\nUsing Numpy Function:\\n\",resultarray)\n"
      ],
      "metadata": {
        "colab": {
          "base_uri": "https://localhost:8080/"
        },
        "id": "1NehUhbIqHfl",
        "outputId": "cd21fc29-c1dd-4bce-f7c0-effea04d9f68"
      },
      "execution_count": null,
      "outputs": [
        {
          "output_type": "stream",
          "name": "stdout",
          "text": [
            "\n",
            "Using Operator:\n",
            " [[-10 -10 -10]\n",
            " [-10 -10 -10]\n",
            " [-10 -10 -10]]\n",
            "\n",
            "Using Numpy Function:\n",
            " [[-10 -10 -10]\n",
            " [-10 -10 -10]\n",
            " [-10 -10 -10]]\n"
          ]
        }
      ]
    },
    {
      "cell_type": "code",
      "source": [
        "## 1.3. Multiplication\n",
        "\n",
        "resultarray=array1*array2\n",
        "print(\"\\nUsing Operator:\\n\",resultarray)\n",
        "resultarray=np.multiply(array1,array2)\n",
        "print(\"\\nUsing Numpy Function:\\n\",resultarray)\n"
      ],
      "metadata": {
        "colab": {
          "base_uri": "https://localhost:8080/"
        },
        "id": "ALcd-p0XqkOs",
        "outputId": "5dfe6bd6-6f8c-435b-994e-07c7bc15e1dd"
      },
      "execution_count": null,
      "outputs": [
        {
          "output_type": "stream",
          "name": "stdout",
          "text": [
            "\n",
            "Using Operator:\n",
            " [[ 11  24  39]\n",
            " [ 56  75  96]\n",
            " [119 144 171]]\n",
            "\n",
            "Using Numpy Function:\n",
            " [[ 11  24  39]\n",
            " [ 56  75  96]\n",
            " [119 144 171]]\n"
          ]
        }
      ]
    },
    {
      "cell_type": "code",
      "source": [
        "## 1.4. Division\n",
        "\n",
        "resultarray=array1/array2\n",
        "print(\"\\nUsing Operator:\\n\",resultarray)\n",
        "resultarray=np.divide(array1,array2)\n",
        "print(\"\\nUsing Numpy Function:\\n\",resultarray)\n"
      ],
      "metadata": {
        "colab": {
          "base_uri": "https://localhost:8080/"
        },
        "id": "yVC9PJBsrIIu",
        "outputId": "6f67d16f-9944-48cf-fde1-6a5cb76ef552"
      },
      "execution_count": null,
      "outputs": [
        {
          "output_type": "stream",
          "name": "stdout",
          "text": [
            "\n",
            "Using Operator:\n",
            " [[0.09090909 0.16666667 0.23076923]\n",
            " [0.28571429 0.33333333 0.375     ]\n",
            " [0.41176471 0.44444444 0.47368421]]\n",
            "\n",
            "Using Numpy Function:\n",
            " [[0.09090909 0.16666667 0.23076923]\n",
            " [0.28571429 0.33333333 0.375     ]\n",
            " [0.41176471 0.44444444 0.47368421]]\n"
          ]
        }
      ]
    },
    {
      "cell_type": "code",
      "source": [
        "# 1.5. Mod\n",
        "\n",
        "resultarray=array1%array2\n",
        "print(\"\\nUsing Operator:\\n\",resultarray)\n",
        "resultarray=np.mod(array1,array2)\n",
        "print(\"\\nUsing Numpy Function:\\n\",resultarray)\n"
      ],
      "metadata": {
        "colab": {
          "base_uri": "https://localhost:8080/"
        },
        "id": "m2Kq_uV6rNO1",
        "outputId": "97db26df-21e6-4caf-d505-7cff8ee5588d"
      },
      "execution_count": null,
      "outputs": [
        {
          "output_type": "stream",
          "name": "stdout",
          "text": [
            "\n",
            "Using Operator:\n",
            " [[1 2 3]\n",
            " [4 5 6]\n",
            " [7 8 9]]\n",
            "\n",
            "Using Numpy Function:\n",
            " [[1 2 3]\n",
            " [4 5 6]\n",
            " [7 8 9]]\n"
          ]
        }
      ]
    },
    {
      "cell_type": "code",
      "source": [
        "## 1.6. dot Product\n",
        "\n",
        "resultarray=np.dot(array1,array2)\n",
        "print(\"\",resultarray)\n"
      ],
      "metadata": {
        "colab": {
          "base_uri": "https://localhost:8080/"
        },
        "id": "mBPFDhRPrUPm",
        "outputId": "505d3e3d-de0c-415f-8ae8-75269d3c4d8b"
      },
      "execution_count": null,
      "outputs": [
        {
          "output_type": "stream",
          "name": "stdout",
          "text": [
            " [[150 156 162]\n",
            " [366 381 396]\n",
            " [582 606 630]]\n"
          ]
        }
      ]
    },
    {
      "cell_type": "code",
      "source": [
        "# 2. Horizontal and vertical stacking of Numpy Arrays\n",
        "\n",
        "## 2.1. Horizontal Stacking\n",
        "\n",
        "resultarray=np.hstack((array1,array2))\n",
        "resultarray"
      ],
      "metadata": {
        "colab": {
          "base_uri": "https://localhost:8080/"
        },
        "id": "7EGQtxchrjN-",
        "outputId": "11dc6fdb-28cf-409a-f2ec-df84e7c1ba0b"
      },
      "execution_count": null,
      "outputs": [
        {
          "output_type": "execute_result",
          "data": {
            "text/plain": [
              "array([[ 1,  2,  3, 11, 12, 13],\n",
              "       [ 4,  5,  6, 14, 15, 16],\n",
              "       [ 7,  8,  9, 17, 18, 19]])"
            ]
          },
          "metadata": {},
          "execution_count": 12
        }
      ]
    },
    {
      "cell_type": "code",
      "source": [
        "## 1.7. Transpose\n",
        "\n",
        "resultarray=np.transpose(array1)\n",
        "print(resultarray)\n",
        "#Or\n",
        "resultarray=array1.transpose()\n",
        "print(resultarray)"
      ],
      "metadata": {
        "colab": {
          "base_uri": "https://localhost:8080/"
        },
        "id": "0zT8TLAWyInQ",
        "outputId": "3cea5538-c384-41da-d1f8-0f88eab78a73"
      },
      "execution_count": null,
      "outputs": [
        {
          "output_type": "stream",
          "name": "stdout",
          "text": [
            "[[1 4 7]\n",
            " [2 5 8]\n",
            " [3 6 9]]\n",
            "[[1 4 7]\n",
            " [2 5 8]\n",
            " [3 6 9]]\n"
          ]
        }
      ]
    },
    {
      "cell_type": "code",
      "source": [
        "## 2.2. Vertical Stacking\n",
        "\n",
        "resultarray=np.vstack((array1,array2))\n",
        "resultarray"
      ],
      "metadata": {
        "colab": {
          "base_uri": "https://localhost:8080/"
        },
        "id": "y7_9mq_Arsvl",
        "outputId": "20693cea-22f1-459d-ec81-8b85ee2408be"
      },
      "execution_count": null,
      "outputs": [
        {
          "output_type": "execute_result",
          "data": {
            "text/plain": [
              "array([[ 1,  2,  3],\n",
              "       [ 4,  5,  6],\n",
              "       [ 7,  8,  9],\n",
              "       [11, 12, 13],\n",
              "       [14, 15, 16],\n",
              "       [17, 18, 19]])"
            ]
          },
          "metadata": {},
          "execution_count": 13
        }
      ]
    },
    {
      "cell_type": "code",
      "source": [
        "# 3.Custom sequence generation\n",
        "\n",
        "## 3.1. Range\n",
        "\n",
        "import numpy as np\n",
        "nparray=np.arange(0,12,1).reshape(3,4)\n",
        "nparray\n"
      ],
      "metadata": {
        "colab": {
          "base_uri": "https://localhost:8080/"
        },
        "id": "eq56Ewvjrz_t",
        "outputId": "9489359a-e59b-4bb4-81fb-7b134f3b886e"
      },
      "execution_count": null,
      "outputs": [
        {
          "output_type": "execute_result",
          "data": {
            "text/plain": [
              "array([[ 0,  1,  2,  3],\n",
              "       [ 4,  5,  6,  7],\n",
              "       [ 8,  9, 10, 11]])"
            ]
          },
          "metadata": {},
          "execution_count": 14
        }
      ]
    },
    {
      "cell_type": "code",
      "source": [
        "## 3.2. Linearly Separable\n",
        "\n",
        "nparray=np.linspace(start=0,stop=24,num=12).reshape(3,4)\n",
        "nparray\n"
      ],
      "metadata": {
        "colab": {
          "base_uri": "https://localhost:8080/"
        },
        "id": "7-utOX00r-RG",
        "outputId": "01fb9a2f-a6a7-4247-feec-5afa91e417b1"
      },
      "execution_count": null,
      "outputs": [
        {
          "output_type": "execute_result",
          "data": {
            "text/plain": [
              "array([[ 0.        ,  2.18181818,  4.36363636,  6.54545455],\n",
              "       [ 8.72727273, 10.90909091, 13.09090909, 15.27272727],\n",
              "       [17.45454545, 19.63636364, 21.81818182, 24.        ]])"
            ]
          },
          "metadata": {},
          "execution_count": 15
        }
      ]
    },
    {
      "cell_type": "code",
      "source": [
        "## 3.3. Empty Array\n",
        "\n",
        "nparray=np.empty((3,3),int)\n",
        "nparray\n"
      ],
      "metadata": {
        "colab": {
          "base_uri": "https://localhost:8080/"
        },
        "id": "hBEflB6osKru",
        "outputId": "a1ca6a92-f421-40c6-ce06-9dd25989b40e"
      },
      "execution_count": null,
      "outputs": [
        {
          "output_type": "execute_result",
          "data": {
            "text/plain": [
              "array([[ 90,  96, 102],\n",
              "       [216, 231, 246],\n",
              "       [342, 366, 390]])"
            ]
          },
          "metadata": {},
          "execution_count": 16
        }
      ]
    },
    {
      "cell_type": "code",
      "source": [
        "## 3.4. Emply Like Some other array\n",
        "\n",
        "nparray=np.empty_like(array1)\n",
        "nparray"
      ],
      "metadata": {
        "colab": {
          "base_uri": "https://localhost:8080/"
        },
        "id": "eGErLB7PsUvm",
        "outputId": "67c54b4c-e903-463e-88be-587cd6ec6543"
      },
      "execution_count": null,
      "outputs": [
        {
          "output_type": "execute_result",
          "data": {
            "text/plain": [
              "array([[1, 2, 3],\n",
              "       [4, 5, 6],\n",
              "       [7, 8, 9]])"
            ]
          },
          "metadata": {},
          "execution_count": 17
        }
      ]
    },
    {
      "cell_type": "code",
      "source": [
        "## 3.5. Identity Matrix\n",
        "\n",
        "nparray=np.identity(3)\n",
        "nparray"
      ],
      "metadata": {
        "colab": {
          "base_uri": "https://localhost:8080/"
        },
        "id": "3WnNzv6csbDH",
        "outputId": "f7c5afba-bbdf-4ac1-fa29-162b13b80aaf"
      },
      "execution_count": null,
      "outputs": [
        {
          "output_type": "execute_result",
          "data": {
            "text/plain": [
              "array([[1., 0., 0.],\n",
              "       [0., 1., 0.],\n",
              "       [0., 0., 1.]])"
            ]
          },
          "metadata": {},
          "execution_count": 18
        }
      ]
    },
    {
      "cell_type": "code",
      "source": [
        "# 4. Arithmetic and Statistical Operations, Mathematical Operations, Bitwise Operators\n",
        "\n",
        "\n",
        "## 4.1. Arithmetic Operation\n",
        "\n",
        "\n",
        "array1=np.array([1,2,3,4,5])\n",
        "array2=np.array([11,12,13,14,15])\n",
        "print(array1)\n",
        "print(array2)"
      ],
      "metadata": {
        "colab": {
          "base_uri": "https://localhost:8080/"
        },
        "id": "BCDwPpYQsixG",
        "outputId": "2200b0db-7490-41ba-eb92-69e8930d2c9c"
      },
      "execution_count": null,
      "outputs": [
        {
          "output_type": "stream",
          "name": "stdout",
          "text": [
            "[1 2 3 4 5]\n",
            "[11 12 13 14 15]\n"
          ]
        }
      ]
    },
    {
      "cell_type": "code",
      "source": [
        "# Addition\n",
        "print(np.add(array1,array2))\n",
        "# Subtraction\n",
        "print(np.subtract(array1,array2))\n",
        "# Multiplication\n",
        "print(np.multiply(array1,array2))\n",
        "# Division\n",
        "print(np.divide(array1,array2))\n"
      ],
      "metadata": {
        "colab": {
          "base_uri": "https://localhost:8080/"
        },
        "id": "xeHA_P8Fsrd9",
        "outputId": "c31e9386-034e-45d1-fdb1-49702efd1d7e"
      },
      "execution_count": null,
      "outputs": [
        {
          "output_type": "stream",
          "name": "stdout",
          "text": [
            "[12 14 16 18 20]\n",
            "[-10 -10 -10 -10 -10]\n",
            "[11 24 39 56 75]\n",
            "[0.09090909 0.16666667 0.23076923 0.28571429 0.33333333]\n"
          ]
        }
      ]
    },
    {
      "cell_type": "code",
      "source": [
        "## 4.2. Statistical and Mathematical Operations\n",
        "\n",
        "\n",
        "array1=np.array([1,2,3,4,5,9,6,7,8,9,9])\n",
        "# Standard Deviation\n",
        "print(np.std(array1))\n",
        "#Minimum\n",
        "print(np.min(array1))\n",
        "#Summation\n",
        "print(np.sum(array1))\n",
        "#Median\n",
        "print(np.median(array1))\n",
        "#Mean\n",
        "print(np.mean(array1))\n",
        "#Mode\n",
        "from scipy import stats\n",
        "print(\"Most Frequent element=\",stats.mode(array1)[0])\n",
        "print(\"Number of Occarances=\",stats.mode(array1)[1])\n",
        "# Variance\n",
        "print(np.var(array1))"
      ],
      "metadata": {
        "colab": {
          "base_uri": "https://localhost:8080/"
        },
        "id": "eP83_Y9Qsykl",
        "outputId": "870d8bdf-6af6-40c4-ba6b-8db6b701cdd1"
      },
      "execution_count": null,
      "outputs": [
        {
          "output_type": "stream",
          "name": "stdout",
          "text": [
            "2.7990553306073913\n",
            "1\n",
            "63\n",
            "6.0\n",
            "5.7272727272727275\n",
            "Most Frequent element= [9]\n",
            "Number of Occarances= [3]\n",
            "7.834710743801653\n"
          ]
        },
        {
          "output_type": "stream",
          "name": "stderr",
          "text": [
            "<ipython-input-21-1301bce1237f>:17: FutureWarning: Unlike other reduction functions (e.g. `skew`, `kurtosis`), the default behavior of `mode` typically preserves the axis it acts along. In SciPy 1.11.0, this behavior will change: the default value of `keepdims` will become False, the `axis` over which the statistic is taken will be eliminated, and the value None will no longer be accepted. Set `keepdims` to True or False to avoid this warning.\n",
            "  print(\"Most Frequent element=\",stats.mode(array1)[0])\n",
            "<ipython-input-21-1301bce1237f>:18: FutureWarning: Unlike other reduction functions (e.g. `skew`, `kurtosis`), the default behavior of `mode` typically preserves the axis it acts along. In SciPy 1.11.0, this behavior will change: the default value of `keepdims` will become False, the `axis` over which the statistic is taken will be eliminated, and the value None will no longer be accepted. Set `keepdims` to True or False to avoid this warning.\n",
            "  print(\"Number of Occarances=\",stats.mode(array1)[1])\n"
          ]
        }
      ]
    },
    {
      "cell_type": "code",
      "source": [
        "## 4.3. Bitwise Operation\n",
        "\n",
        "array1=np.array([1,2,3],dtype=np.uint8)\n",
        "array2=np.array([4,5,6])\n",
        "# AND\n",
        "resultarray=np.bitwise_and(array1,array2)\n",
        "print(resultarray)\n",
        "# OR\n",
        "resultarray=np.bitwise_or(array1,array2)\n",
        "print(resultarray)\n",
        "#LeftShift\n",
        "resultarray=np.left_shift(array1,2)\n",
        "print(resultarray)\n",
        "#RightShift\n",
        "resultarray=np.right_shift(array1,2)\n",
        "print(resultarray)"
      ],
      "metadata": {
        "colab": {
          "base_uri": "https://localhost:8080/"
        },
        "id": "oAEEy4Sfs64m",
        "outputId": "ca6149d8-68d5-4018-9e2d-d5e5ba69a3cf"
      },
      "execution_count": null,
      "outputs": [
        {
          "output_type": "stream",
          "name": "stdout",
          "text": [
            "[0 0 2]\n",
            "[5 7 7]\n",
            "[ 4  8 12]\n",
            "[0 0 0]\n"
          ]
        }
      ]
    },
    {
      "cell_type": "code",
      "source": [
        "### You can get Binary Representation of Number ######\n",
        "print(np.binary_repr(10,8))\n",
        "resultarray=np.left_shift(10,2)\n",
        "print(resultarray)\n",
        "print(np.binary_repr(np.left_shift(10,2),8))\n"
      ],
      "metadata": {
        "colab": {
          "base_uri": "https://localhost:8080/"
        },
        "id": "xxEPCiSPtBfZ",
        "outputId": "fe617121-62ff-4cd1-ecd5-8aa96c297436"
      },
      "execution_count": null,
      "outputs": [
        {
          "output_type": "stream",
          "name": "stdout",
          "text": [
            "00001010\n",
            "40\n",
            "00101000\n"
          ]
        }
      ]
    },
    {
      "cell_type": "code",
      "source": [
        "# 5.Copying and viewing arrays\n",
        "\n",
        "\n",
        "## 5.1 Copy\n",
        "\n",
        "array1=np.arange(1,10)\n",
        "print(array1)\n",
        "newarray=array1.copy()\n",
        "print(newarray)\n",
        "\n",
        "array1[0]=100\n",
        "print(array1)\n",
        "print(newarray)"
      ],
      "metadata": {
        "colab": {
          "base_uri": "https://localhost:8080/"
        },
        "id": "G5F5kFIFtQXW",
        "outputId": "2935f02a-e719-431a-ac54-9d9fd8a4d0db"
      },
      "execution_count": null,
      "outputs": [
        {
          "output_type": "stream",
          "name": "stdout",
          "text": [
            "[1 2 3 4 5 6 7 8 9]\n",
            "[1 2 3 4 5 6 7 8 9]\n",
            "[100   2   3   4   5   6   7   8   9]\n",
            "[1 2 3 4 5 6 7 8 9]\n"
          ]
        }
      ]
    },
    {
      "cell_type": "code",
      "source": [
        "# 5.2 View\n",
        "\n",
        "array1=np.arange(1,10)\n",
        "print(array1)\n",
        "newarray=array1.view()\n",
        "print(newarray)\n",
        "\n",
        "array1[0]=100\n",
        "print(array1)\n",
        "print(newarray)\n"
      ],
      "metadata": {
        "colab": {
          "base_uri": "https://localhost:8080/"
        },
        "id": "r0Ie_9eitdGm",
        "outputId": "1699981a-f78a-4b44-ad66-a56d2c7e525b"
      },
      "execution_count": null,
      "outputs": [
        {
          "output_type": "stream",
          "name": "stdout",
          "text": [
            "[1 2 3 4 5 6 7 8 9]\n",
            "[1 2 3 4 5 6 7 8 9]\n",
            "[100   2   3   4   5   6   7   8   9]\n",
            "[100   2   3   4   5   6   7   8   9]\n"
          ]
        }
      ]
    },
    {
      "cell_type": "code",
      "source": [
        "# 6. Searching\n",
        "\n",
        "\n",
        "array1=np.array([[1,2,3,12,5,7],[94,5,6,7,89,44],[7,8,9,11,13,14]])\n",
        "print(array1)"
      ],
      "metadata": {
        "colab": {
          "base_uri": "https://localhost:8080/"
        },
        "id": "uHPIg3wAtkg-",
        "outputId": "13829056-19f6-4339-e9dc-bca84f845bbf"
      },
      "execution_count": null,
      "outputs": [
        {
          "output_type": "stream",
          "name": "stdout",
          "text": [
            "[[ 1  2  3 12  5  7]\n",
            " [94  5  6  7 89 44]\n",
            " [ 7  8  9 11 13 14]]\n"
          ]
        }
      ]
    },
    {
      "cell_type": "code",
      "source": [
        "np.sort(array1,axis=0)\n"
      ],
      "metadata": {
        "colab": {
          "base_uri": "https://localhost:8080/"
        },
        "id": "jxRKCqn7t3a4",
        "outputId": "f19a7c24-40eb-477c-9d31-7d52672041c1"
      },
      "execution_count": null,
      "outputs": [
        {
          "output_type": "execute_result",
          "data": {
            "text/plain": [
              "array([[ 1,  2,  3,  7,  5,  7],\n",
              "       [ 7,  5,  6, 11, 13, 14],\n",
              "       [94,  8,  9, 12, 89, 44]])"
            ]
          },
          "metadata": {},
          "execution_count": 28
        }
      ]
    },
    {
      "cell_type": "code",
      "source": [
        "np.sort(array1,axis=1)\n",
        "\n"
      ],
      "metadata": {
        "colab": {
          "base_uri": "https://localhost:8080/"
        },
        "id": "EZSZEqvauDnS",
        "outputId": "f7029197-8a7b-4e01-c88b-2313a652baa6"
      },
      "execution_count": null,
      "outputs": [
        {
          "output_type": "execute_result",
          "data": {
            "text/plain": [
              "array([[ 1,  2,  3,  5,  7, 12],\n",
              "       [ 5,  6,  7, 44, 89, 94],\n",
              "       [ 7,  8,  9, 11, 13, 14]])"
            ]
          },
          "metadata": {},
          "execution_count": 29
        }
      ]
    },
    {
      "cell_type": "code",
      "source": [
        "# 7. Searching\n",
        "\n",
        "array1=np.array([1,2,3,12,5,7])\n",
        "np.searchsorted(array1,7,side=\"left\")\n"
      ],
      "metadata": {
        "colab": {
          "base_uri": "https://localhost:8080/"
        },
        "id": "5AMhnNiOuJ-m",
        "outputId": "0e2c9e6a-f344-455c-bd52-05b56cbf964d"
      },
      "execution_count": null,
      "outputs": [
        {
          "output_type": "execute_result",
          "data": {
            "text/plain": [
              "3"
            ]
          },
          "metadata": {},
          "execution_count": 30
        }
      ]
    },
    {
      "cell_type": "code",
      "source": [
        "# 8. Counting\n",
        "\n",
        "array1=np.array([1,2,3,12,5,7,0])\n",
        "print(np.count_nonzero(array1))\n",
        "print(np.nonzero(array1))\n",
        "print(array1.size)\n"
      ],
      "metadata": {
        "colab": {
          "base_uri": "https://localhost:8080/"
        },
        "id": "-IRD8ChUuTb2",
        "outputId": "57f7b31f-9363-4a6b-eeba-79e086fc6fb2"
      },
      "execution_count": null,
      "outputs": [
        {
          "output_type": "stream",
          "name": "stdout",
          "text": [
            "6\n",
            "(array([0, 1, 2, 3, 4, 5]),)\n",
            "7\n"
          ]
        }
      ]
    },
    {
      "cell_type": "code",
      "source": [
        "# 9. Data Stackinng\n",
        "\n",
        "array1=np.array(np.arange(1,5).reshape(2,2))\n",
        "print(array1)\n",
        "array2=np.array(np.arange(11,15).reshape(2,2))\n",
        "print(array2)"
      ],
      "metadata": {
        "colab": {
          "base_uri": "https://localhost:8080/"
        },
        "id": "2TStdBR7uftf",
        "outputId": "ed1aa0ab-6038-41a8-de4e-6353bcc01ea2"
      },
      "execution_count": null,
      "outputs": [
        {
          "output_type": "stream",
          "name": "stdout",
          "text": [
            "[[1 2]\n",
            " [3 4]]\n",
            "[[11 12]\n",
            " [13 14]]\n"
          ]
        }
      ]
    },
    {
      "cell_type": "code",
      "source": [
        "newarray=np.stack([array1,array2],axis=0)\n",
        "print(newarray)"
      ],
      "metadata": {
        "colab": {
          "base_uri": "https://localhost:8080/"
        },
        "id": "2SxafUU7unfe",
        "outputId": "ba0b00f3-5e7a-45cb-b8d3-b01c856bf2a7"
      },
      "execution_count": null,
      "outputs": [
        {
          "output_type": "stream",
          "name": "stdout",
          "text": [
            "[[[ 1  2]\n",
            "  [ 3  4]]\n",
            "\n",
            " [[11 12]\n",
            "  [13 14]]]\n"
          ]
        }
      ]
    },
    {
      "cell_type": "code",
      "source": [
        "newarray=np.stack([array1,array2],axis=1)\n",
        "print(newarray)"
      ],
      "metadata": {
        "colab": {
          "base_uri": "https://localhost:8080/"
        },
        "id": "rmruDsSPut8j",
        "outputId": "9da9a3c8-42a6-45d3-d761-d449dac67f23"
      },
      "execution_count": null,
      "outputs": [
        {
          "output_type": "stream",
          "name": "stdout",
          "text": [
            "[[[ 1  2]\n",
            "  [11 12]]\n",
            "\n",
            " [[ 3  4]\n",
            "  [13 14]]]\n"
          ]
        }
      ]
    },
    {
      "cell_type": "code",
      "source": [
        "# 10. Append\n",
        "\n",
        "array1=np.arange(1,10).reshape(3,3)\n",
        "print(array1)\n",
        "array2=np.arange(21,30).reshape(3,3)\n",
        "print(array2)"
      ],
      "metadata": {
        "colab": {
          "base_uri": "https://localhost:8080/"
        },
        "id": "JkhwT_oru0Zv",
        "outputId": "e801b3fe-67e3-4a20-ad2d-9249151cec59"
      },
      "execution_count": null,
      "outputs": [
        {
          "output_type": "stream",
          "name": "stdout",
          "text": [
            "[[1 2 3]\n",
            " [4 5 6]\n",
            " [7 8 9]]\n",
            "[[21 22 23]\n",
            " [24 25 26]\n",
            " [27 28 29]]\n"
          ]
        }
      ]
    },
    {
      "cell_type": "code",
      "source": [
        "np.append(array1,array2,axis=0)"
      ],
      "metadata": {
        "colab": {
          "base_uri": "https://localhost:8080/"
        },
        "id": "ZbAZuFuYvLY3",
        "outputId": "e1a38e2d-aafd-455a-92b0-cd5a154e3da1"
      },
      "execution_count": null,
      "outputs": [
        {
          "output_type": "execute_result",
          "data": {
            "text/plain": [
              "array([[ 1,  2,  3],\n",
              "       [ 4,  5,  6],\n",
              "       [ 7,  8,  9],\n",
              "       [21, 22, 23],\n",
              "       [24, 25, 26],\n",
              "       [27, 28, 29]])"
            ]
          },
          "metadata": {},
          "execution_count": 36
        }
      ]
    },
    {
      "cell_type": "code",
      "source": [
        "np.append(array1,array2,axis=1)"
      ],
      "metadata": {
        "colab": {
          "base_uri": "https://localhost:8080/"
        },
        "id": "jWBSHM5VvNeu",
        "outputId": "138b6474-beee-431d-d83a-2c21d0b0d88e"
      },
      "execution_count": null,
      "outputs": [
        {
          "output_type": "execute_result",
          "data": {
            "text/plain": [
              "array([[ 1,  2,  3, 21, 22, 23],\n",
              "       [ 4,  5,  6, 24, 25, 26],\n",
              "       [ 7,  8,  9, 27, 28, 29]])"
            ]
          },
          "metadata": {},
          "execution_count": 37
        }
      ]
    },
    {
      "cell_type": "code",
      "source": [
        "# 11. Concat\n",
        "\n",
        "array1=np.arange(1,10).reshape(3,3)\n",
        "print(array1)\n",
        "array2=np.arange(21,30).reshape(3,3)\n",
        "print(array2)"
      ],
      "metadata": {
        "colab": {
          "base_uri": "https://localhost:8080/"
        },
        "id": "C0NSOfhWvSHn",
        "outputId": "0c1af5a8-6f54-45e6-a519-ca09c474bc3f"
      },
      "execution_count": null,
      "outputs": [
        {
          "output_type": "stream",
          "name": "stdout",
          "text": [
            "[[1 2 3]\n",
            " [4 5 6]\n",
            " [7 8 9]]\n",
            "[[21 22 23]\n",
            " [24 25 26]\n",
            " [27 28 29]]\n"
          ]
        }
      ]
    },
    {
      "cell_type": "code",
      "source": [
        "np.concatenate((array1,array2),axis=0)\n"
      ],
      "metadata": {
        "colab": {
          "base_uri": "https://localhost:8080/"
        },
        "id": "iirinImKvclH",
        "outputId": "98fc2403-5ffc-4006-ca2c-fcc362e9bb57"
      },
      "execution_count": null,
      "outputs": [
        {
          "output_type": "execute_result",
          "data": {
            "text/plain": [
              "array([[ 1,  2,  3],\n",
              "       [ 4,  5,  6],\n",
              "       [ 7,  8,  9],\n",
              "       [21, 22, 23],\n",
              "       [24, 25, 26],\n",
              "       [27, 28, 29]])"
            ]
          },
          "metadata": {},
          "execution_count": 39
        }
      ]
    },
    {
      "cell_type": "code",
      "source": [
        "np.concatenate((array1,array2),axis=1)\n"
      ],
      "metadata": {
        "colab": {
          "base_uri": "https://localhost:8080/"
        },
        "id": "kZnRx8QKvi54",
        "outputId": "b0352e63-e2ab-46a8-ed5e-c21c2895541c"
      },
      "execution_count": null,
      "outputs": [
        {
          "output_type": "execute_result",
          "data": {
            "text/plain": [
              "array([[ 1,  2,  3, 21, 22, 23],\n",
              "       [ 4,  5,  6, 24, 25, 26],\n",
              "       [ 7,  8,  9, 27, 28, 29]])"
            ]
          },
          "metadata": {},
          "execution_count": 40
        }
      ]
    },
    {
      "cell_type": "code",
      "source": [
        "import numpy as np\n",
        "\n",
        "# using loadtxt()\n",
        "arr = np.loadtxt(\"/content/testmarks1 (1).csv\",delimiter=\",\",skiprows=1)\n",
        "print(type(arr))\n",
        "arr.shape"
      ],
      "metadata": {
        "colab": {
          "base_uri": "https://localhost:8080/"
        },
        "id": "eB6EkV3216M_",
        "outputId": "3a05fbf3-8027-4e3c-e3f4-c1b18d9bbd96"
      },
      "execution_count": null,
      "outputs": [
        {
          "output_type": "stream",
          "name": "stdout",
          "text": [
            "<class 'numpy.ndarray'>\n"
          ]
        },
        {
          "output_type": "execute_result",
          "data": {
            "text/plain": [
              "(10, 5)"
            ]
          },
          "metadata": {},
          "execution_count": 49
        }
      ]
    },
    {
      "cell_type": "code",
      "source": [
        "EDS=arr[:,1]\n",
        "\n",
        "print(EDS)"
      ],
      "metadata": {
        "colab": {
          "base_uri": "https://localhost:8080/"
        },
        "id": "QOMPfX132LkR",
        "outputId": "e42eb189-85d7-45de-ee6f-ef349acbe011"
      },
      "execution_count": null,
      "outputs": [
        {
          "output_type": "stream",
          "name": "stdout",
          "text": [
            "[43.05 43.47 42.24 39.24 40.9  39.47 41.68 42.19 44.75 46.95]\n"
          ]
        }
      ]
    },
    {
      "cell_type": "code",
      "source": [
        "SON=arr[:,2]\n",
        "print(SON)"
      ],
      "metadata": {
        "colab": {
          "base_uri": "https://localhost:8080/"
        },
        "id": "QWp7Ibl42WtA",
        "outputId": "8d07574b-887e-4919-85fb-cd8999657246"
      },
      "execution_count": null,
      "outputs": [
        {
          "output_type": "stream",
          "name": "stdout",
          "text": [
            "[27.79 28.52 28.16 26.16 26.03 26.31 25.63 27.61 28.35 28.88]\n"
          ]
        }
      ]
    }
  ]
}